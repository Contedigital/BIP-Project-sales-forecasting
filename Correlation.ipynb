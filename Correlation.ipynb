{
 "cells": [
  {
   "cell_type": "code",
   "execution_count": 1,
   "metadata": {},
   "outputs": [],
   "source": [
    "import pandas as pd\n",
    "import numpy as np\n",
    "from datetime import datetime\n",
    "import matplotlib.pyplot as plt\n",
    "import matplotlib as mpl\n",
    "import seaborn as sns\n",
    "import lightgbm as lgb\n",
    "import xgboost as xgb\n",
    "from catboost import CatBoostRegressor\n",
    "from scipy import stats\n",
    "from xgboost import plot_importance, plot_tree\n",
    "from sklearn.metrics import mean_squared_error\n",
    "from math import sqrt\n",
    "from sklearn.model_selection import train_test_split\n",
    "from sklearn.ensemble import RandomForestRegressor\n",
    "import math\n",
    "from scipy import stats\n",
    "from sklearn import preprocessing\n",
    "from sklearn.preprocessing import OneHotEncoder\n",
    "import networkx as nx\n",
    "from networkx.algorithms.components import node_connected_component as ncc\n",
    "\n",
    "\n",
    "from xgboost import plot_importance, plot_tree\n",
    "\n",
    "import warnings\n",
    "warnings.filterwarnings('ignore')\n",
    "\n",
    "from sklearn.linear_model import LinearRegression\n",
    "from sklearn.linear_model import Lasso\n",
    "from sklearn.ensemble import RandomForestRegressor\n",
    "from sklearn.metrics import mean_squared_error\n",
    "\n",
    "# \n",
    "from statsmodels.graphics.tsaplots import plot_acf, plot_pacf\n",
    "from statsmodels.tsa.seasonal import seasonal_decompose\n",
    "from statsmodels.tsa.stattools import adfuller\n",
    "\n",
    "%config InlineBackend.figure_format = 'retina' #set 'png' here when working on notebook\n",
    "%matplotlib inline\n",
    "\n",
    "\n",
    "figsize=(12,9)\n",
    "\n",
    "np.random.seed(238746)\n",
    "\n",
    "plt.style.use('seaborn-dark-palette')\n",
    "mypal = plt.rcParams['axes.prop_cycle'].by_key()['color'] # Grab the color pal\n",
    "\n",
    "SplitTestData = \"2018-12\"\n",
    "SplitValData = \"2018-09\"\n",
    "\n",
    "import warnings\n",
    "warnings.filterwarnings(\"ignore\")\n",
    "\n",
    "from scipy.stats import pearsonr\n"
   ]
  },
  {
   "cell_type": "code",
   "execution_count": 2,
   "metadata": {},
   "outputs": [],
   "source": [
    "def mean_absolute_percentage_error(y_true, y_pred): \n",
    "    y_true, y_pred = np.array(y_true), np.array(y_pred)\n",
    "    return np.mean(np.abs((y_true - y_pred) / y_true)) * 100\n",
    "\n",
    "def split_date(X,y,date):\n",
    "    X_te = X[date:]\n",
    "    y_te = y[date:]\n",
    "    X_tr = X[:date]\n",
    "    y_tr = y[:date]\n",
    "    return X_tr, X_te, y_tr, y_te \n",
    "\n",
    "def plot_results(ytrue, prediction, label):\n",
    "    df_ytrue = pd.DataFrame(ytrue)\n",
    "    df_ytrue['predicted'] =  prediction #0.1*pred_test +0.2*pred_test_cat + 0.7*pred_test_xgb\n",
    "    plt.plot(df_ytrue[label],label='data')\n",
    "    plt.plot(df_ytrue['predicted'],label='predicted')\n",
    "    #plt.ylim([200,330])\n",
    "    plt.xticks(rotation=45)\n",
    "    mape = mean_absolute_percentage_error(df_ytrue[label],df_ytrue['predicted'])\n",
    "\n",
    "    plt.title(\"Forecasting on Test Set MAPE=%.3f\"%mape)\n",
    "    plt.legend();\n",
    "    plt.show()\n",
    "    \n"
   ]
  },
  {
   "cell_type": "markdown",
   "metadata": {},
   "source": [
    "# SELEZIONA COME NORMALIZZARE:"
   ]
  },
  {
   "cell_type": "code",
   "execution_count": 3,
   "metadata": {},
   "outputs": [],
   "source": [
    "quantile_transformer = preprocessing.QuantileTransformer(output_distribution='normal', random_state=123)\n",
    "min_max_scaler = preprocessing.MinMaxScaler()\n",
    "\n",
    "def scale(feature):\n",
    "    size = len(feature)\n",
    "    return min_max_scaler.fit_transform(np.array([feature]).reshape(size, 1)).T[0]\n",
    "    #return quantile_transformer.fit_transform(np.array([feature]).reshape(size, 1)).T[0]\n",
    "    \n",
    "def unscale(scaled, original):\n",
    "    size2 = len(scaled)\n",
    "    size1 = len(original)\n",
    "    return min_max_scaler.fit(np.array([original]).reshape(size1, 1)).inverse_transform(np.array([scaled]).reshape(size2, 1)).T[0]\n",
    "    #return quantile_transformer.fit(np.array([original]).reshape(size1, 1)).inverse_transform(np.array([scaled]).reshape(size2, 1)).T[0]"
   ]
  },
  {
   "cell_type": "code",
   "execution_count": 10,
   "metadata": {},
   "outputs": [],
   "source": [
    "# Read train and test files\n",
    "train_df = pd.read_csv('processed_train.csv')\n",
    "\n",
    "train_df.date = train_df.date.apply(lambda x:datetime.strptime(x,'%Y-%m-%d'))\n",
    "train_df = train_df.set_index(\"date\")\n"
   ]
  },
  {
   "cell_type": "code",
   "execution_count": 11,
   "metadata": {},
   "outputs": [
    {
     "data": {
      "text/html": [
       "<div>\n",
       "<style scoped>\n",
       "    .dataframe tbody tr th:only-of-type {\n",
       "        vertical-align: middle;\n",
       "    }\n",
       "\n",
       "    .dataframe tbody tr th {\n",
       "        vertical-align: top;\n",
       "    }\n",
       "\n",
       "    .dataframe thead th {\n",
       "        text-align: right;\n",
       "    }\n",
       "</style>\n",
       "<table border=\"1\" class=\"dataframe\">\n",
       "  <thead>\n",
       "    <tr style=\"text-align: right;\">\n",
       "      <th></th>\n",
       "      <th>2704</th>\n",
       "      <th>2718</th>\n",
       "      <th>1603</th>\n",
       "      <th>1732</th>\n",
       "      <th>2249</th>\n",
       "      <th>1356</th>\n",
       "      <th>1371</th>\n",
       "      <th>2396</th>\n",
       "      <th>1633</th>\n",
       "      <th>2401</th>\n",
       "      <th>...</th>\n",
       "      <th>144</th>\n",
       "      <th>1051</th>\n",
       "      <th>546</th>\n",
       "      <th>1058</th>\n",
       "      <th>549</th>\n",
       "      <th>1065</th>\n",
       "      <th>554</th>\n",
       "      <th>686</th>\n",
       "      <th>688</th>\n",
       "      <th>1206</th>\n",
       "    </tr>\n",
       "    <tr>\n",
       "      <th>date</th>\n",
       "      <th></th>\n",
       "      <th></th>\n",
       "      <th></th>\n",
       "      <th></th>\n",
       "      <th></th>\n",
       "      <th></th>\n",
       "      <th></th>\n",
       "      <th></th>\n",
       "      <th></th>\n",
       "      <th></th>\n",
       "      <th></th>\n",
       "      <th></th>\n",
       "      <th></th>\n",
       "      <th></th>\n",
       "      <th></th>\n",
       "      <th></th>\n",
       "      <th></th>\n",
       "      <th></th>\n",
       "      <th></th>\n",
       "      <th></th>\n",
       "      <th></th>\n",
       "    </tr>\n",
       "  </thead>\n",
       "  <tbody>\n",
       "    <tr>\n",
       "      <th>2016-12-17</th>\n",
       "      <td>0.528132</td>\n",
       "      <td>0.373639</td>\n",
       "      <td>0.425342</td>\n",
       "      <td>0.187454</td>\n",
       "      <td>0.588985</td>\n",
       "      <td>0.477764</td>\n",
       "      <td>0.347097</td>\n",
       "      <td>0.079952</td>\n",
       "      <td>0.374038</td>\n",
       "      <td>0.642186</td>\n",
       "      <td>...</td>\n",
       "      <td>0.486490</td>\n",
       "      <td>0.637477</td>\n",
       "      <td>0.109741</td>\n",
       "      <td>0.139787</td>\n",
       "      <td>0.102699</td>\n",
       "      <td>0.194845</td>\n",
       "      <td>0.121289</td>\n",
       "      <td>0.418289</td>\n",
       "      <td>0.138139</td>\n",
       "      <td>0.172590</td>\n",
       "    </tr>\n",
       "    <tr>\n",
       "      <th>2016-12-24</th>\n",
       "      <td>0.729906</td>\n",
       "      <td>0.385207</td>\n",
       "      <td>0.425634</td>\n",
       "      <td>0.201649</td>\n",
       "      <td>0.540474</td>\n",
       "      <td>0.289994</td>\n",
       "      <td>0.270542</td>\n",
       "      <td>0.054262</td>\n",
       "      <td>0.335511</td>\n",
       "      <td>0.565512</td>\n",
       "      <td>...</td>\n",
       "      <td>0.407090</td>\n",
       "      <td>0.458953</td>\n",
       "      <td>0.090556</td>\n",
       "      <td>0.118372</td>\n",
       "      <td>0.106018</td>\n",
       "      <td>0.163517</td>\n",
       "      <td>0.098738</td>\n",
       "      <td>0.322606</td>\n",
       "      <td>0.120572</td>\n",
       "      <td>0.132554</td>\n",
       "    </tr>\n",
       "    <tr>\n",
       "      <th>2016-12-31</th>\n",
       "      <td>0.194152</td>\n",
       "      <td>0.126157</td>\n",
       "      <td>0.165571</td>\n",
       "      <td>0.000000</td>\n",
       "      <td>0.295729</td>\n",
       "      <td>0.041487</td>\n",
       "      <td>0.064536</td>\n",
       "      <td>0.000000</td>\n",
       "      <td>0.000000</td>\n",
       "      <td>0.332343</td>\n",
       "      <td>...</td>\n",
       "      <td>0.053880</td>\n",
       "      <td>0.064080</td>\n",
       "      <td>0.000000</td>\n",
       "      <td>0.055989</td>\n",
       "      <td>0.047927</td>\n",
       "      <td>0.056471</td>\n",
       "      <td>0.000000</td>\n",
       "      <td>0.050793</td>\n",
       "      <td>0.030799</td>\n",
       "      <td>0.029706</td>\n",
       "    </tr>\n",
       "    <tr>\n",
       "      <th>2017-01-07</th>\n",
       "      <td>0.664149</td>\n",
       "      <td>0.500851</td>\n",
       "      <td>0.764335</td>\n",
       "      <td>0.130467</td>\n",
       "      <td>0.253876</td>\n",
       "      <td>0.582561</td>\n",
       "      <td>0.761234</td>\n",
       "      <td>0.251337</td>\n",
       "      <td>0.345402</td>\n",
       "      <td>0.260606</td>\n",
       "      <td>...</td>\n",
       "      <td>0.112516</td>\n",
       "      <td>0.156079</td>\n",
       "      <td>0.135753</td>\n",
       "      <td>0.178347</td>\n",
       "      <td>0.132053</td>\n",
       "      <td>0.231984</td>\n",
       "      <td>0.138481</td>\n",
       "      <td>0.111800</td>\n",
       "      <td>0.161601</td>\n",
       "      <td>0.211821</td>\n",
       "    </tr>\n",
       "    <tr>\n",
       "      <th>2017-01-14</th>\n",
       "      <td>0.685698</td>\n",
       "      <td>0.547292</td>\n",
       "      <td>0.892546</td>\n",
       "      <td>0.091953</td>\n",
       "      <td>0.144488</td>\n",
       "      <td>0.612621</td>\n",
       "      <td>0.806488</td>\n",
       "      <td>0.352417</td>\n",
       "      <td>0.445781</td>\n",
       "      <td>0.195421</td>\n",
       "      <td>...</td>\n",
       "      <td>0.110378</td>\n",
       "      <td>0.148380</td>\n",
       "      <td>0.178706</td>\n",
       "      <td>0.219959</td>\n",
       "      <td>0.158161</td>\n",
       "      <td>0.290207</td>\n",
       "      <td>0.184171</td>\n",
       "      <td>0.113596</td>\n",
       "      <td>0.211160</td>\n",
       "      <td>0.270787</td>\n",
       "    </tr>\n",
       "  </tbody>\n",
       "</table>\n",
       "<p>5 rows × 24 columns</p>\n",
       "</div>"
      ],
      "text/plain": [
       "                2704      2718      1603      1732      2249      1356  \\\n",
       "date                                                                     \n",
       "2016-12-17  0.528132  0.373639  0.425342  0.187454  0.588985  0.477764   \n",
       "2016-12-24  0.729906  0.385207  0.425634  0.201649  0.540474  0.289994   \n",
       "2016-12-31  0.194152  0.126157  0.165571  0.000000  0.295729  0.041487   \n",
       "2017-01-07  0.664149  0.500851  0.764335  0.130467  0.253876  0.582561   \n",
       "2017-01-14  0.685698  0.547292  0.892546  0.091953  0.144488  0.612621   \n",
       "\n",
       "                1371      2396      1633      2401  ...      144       1051  \\\n",
       "date                                                ...                       \n",
       "2016-12-17  0.347097  0.079952  0.374038  0.642186  ...  0.486490  0.637477   \n",
       "2016-12-24  0.270542  0.054262  0.335511  0.565512  ...  0.407090  0.458953   \n",
       "2016-12-31  0.064536  0.000000  0.000000  0.332343  ...  0.053880  0.064080   \n",
       "2017-01-07  0.761234  0.251337  0.345402  0.260606  ...  0.112516  0.156079   \n",
       "2017-01-14  0.806488  0.352417  0.445781  0.195421  ...  0.110378  0.148380   \n",
       "\n",
       "                546       1058      549       1065      554       686   \\\n",
       "date                                                                     \n",
       "2016-12-17  0.109741  0.139787  0.102699  0.194845  0.121289  0.418289   \n",
       "2016-12-24  0.090556  0.118372  0.106018  0.163517  0.098738  0.322606   \n",
       "2016-12-31  0.000000  0.055989  0.047927  0.056471  0.000000  0.050793   \n",
       "2017-01-07  0.135753  0.178347  0.132053  0.231984  0.138481  0.111800   \n",
       "2017-01-14  0.178706  0.219959  0.158161  0.290207  0.184171  0.113596   \n",
       "\n",
       "                688       1206  \n",
       "date                            \n",
       "2016-12-17  0.138139  0.172590  \n",
       "2016-12-24  0.120572  0.132554  \n",
       "2016-12-31  0.030799  0.029706  \n",
       "2017-01-07  0.161601  0.211821  \n",
       "2017-01-14  0.211160  0.270787  \n",
       "\n",
       "[5 rows x 24 columns]"
      ]
     },
     "execution_count": 11,
     "metadata": {},
     "output_type": "execute_result"
    }
   ],
   "source": [
    "targets = pd.DataFrame()\n",
    "for sku in train_df.sku.unique():\n",
    "    targets[sku] = train_df.loc[train_df['sku'] == sku][\"scaled_target\"]\n",
    "targets.head()"
   ]
  },
  {
   "cell_type": "code",
   "execution_count": 38,
   "metadata": {},
   "outputs": [
    {
     "name": "stdout",
     "output_type": "stream",
     "text": [
      "[[(688, 1058), 0.9904646612859503], [(546, 549), 0.9901041780990425], [(688, 1206), 0.9881280571921007], [(549, 1058), 0.9862329935273375], [(144, 686), 0.9857050268940731], [(546, 554), 0.985358578568291], [(549, 1027), 0.9850381753114951], [(549, 554), 0.9850060919415845], [(1058, 1065), 0.983051757993448], [(549, 688), 0.9823788484954358], [(549, 1065), 0.9821019589426977], [(546, 1027), 0.9817983810057049], [(1058, 1206), 0.9791495775728974], [(549, 1035), 0.9788270895218814], [(1035, 1206), 0.9784673873589802], [(546, 1058), 0.976815519651298], [(554, 1065), 0.976362719232447], [(688, 1027), 0.9762887841062925], [(1027, 1058), 0.9760549880350066], [(688, 1065), 0.9749041221075027], [(546, 1065), 0.9744080584900161], [(549, 1206), 0.97380960514296], [(2249, 2401), 0.9732861781552432], [(688, 1035), 0.9702080599570676], [(1027, 1035), 0.9687469259944607], [(1027, 1065), 0.9677755918945224], [(1027, 1206), 0.9676200197966752], [(554, 1027), 0.9675287610744209], [(546, 688), 0.9671735391337557], [(554, 1058), 0.9669839116576371], [(546, 1035), 0.9663831167186148], [(1065, 1206), 0.9640384262517802], [(144, 1051), 0.9633769948433403], [(2401, 2410), 0.9618941828771927], [(1035, 1058), 0.9614013309689985], [(546, 1206), 0.9600730962699755], [(686, 1051), 0.9578054584266529], [(554, 688), 0.9550665190222051], [(554, 1035), 0.9523474718026815], [(1035, 1065), 0.9471968266921379], [(2249, 2410), 0.9461654251127055], [(554, 1206), 0.9380363120615097], [(1356, 1371), 0.6685353591231908], [(1516, 1633), 0.6262909682110752], [(1371, 2704), 0.6095147154152498]]\n"
     ]
    }
   ],
   "source": [
    "def takeCorr(elem):\n",
    "    return elem[1]\n",
    "\n",
    "correlations = []\n",
    "for c1 in targets.columns:\n",
    "    for c2 in targets.columns:\n",
    "        if c1 < c2:\n",
    "            if pearsonr(targets[c1],targets[c2])[0] > 0.6:\n",
    "#             if targets[c1].corr(targets[c2]) > 0.90:\n",
    "                correlations.append([(c1,c2),targets[c1].corr(targets[c2])])\n",
    "correlations.sort(reverse=True,key=takeCorr)\n",
    "print(correlations)"
   ]
  },
  {
   "cell_type": "code",
   "execution_count": 39,
   "metadata": {},
   "outputs": [
    {
     "name": "stdout",
     "output_type": "stream",
     "text": [
      "20\n"
     ]
    }
   ],
   "source": [
    "G = nx.Graph()\n",
    "for e in range(0,len(correlations)):\n",
    "    G.add_edge(correlations[e][0][0],correlations[e][0][1])\n",
    "print(len(G))"
   ]
  },
  {
   "cell_type": "code",
   "execution_count": 40,
   "metadata": {},
   "outputs": [
    {
     "data": {
      "image/png": "[encoded data removed]",
      "text/plain": [
       "<Figure size 432x288 with 1 Axes>"
      ]
     },
     "metadata": {
      "image/png": {
       "height": 231,
       "width": 349
      }
     },
     "output_type": "display_data"
    }
   ],
   "source": [
    "pos = nx.spring_layout(G)\n",
    "nx.draw_networkx_nodes(G, pos, cmap=plt.get_cmap('jet'), node_size = 1000)\n",
    "nx.draw_networkx_edges(G, pos, edgelist=G.edges(), edge_color='r')\n",
    "nx.draw_networkx_labels(G, pos)\n",
    "plt.show()"
   ]
  },
  {
   "cell_type": "code",
   "execution_count": 41,
   "metadata": {},
   "outputs": [
    {
     "name": "stdout",
     "output_type": "stream",
     "text": [
      "14\n"
     ]
    },
    {
     "data": {
      "text/plain": [
       "[[688, 1058, 549, 546, 1027, 554, 1035, 1206, 1065],\n",
       " [144, 686, 1051],\n",
       " [2249, 2401, 2410],\n",
       " [1356, 1371, 2704],\n",
       " [1516, 1633]]"
      ]
     },
     "execution_count": 41,
     "metadata": {},
     "output_type": "execute_result"
    }
   ],
   "source": [
    "groups = []\n",
    "\n",
    "\n",
    "for couple, corr in correlations:\n",
    "    found = False\n",
    "    for g in groups:\n",
    "        \n",
    "        if couple in g:\n",
    "            if not couple[1] in g:\n",
    "                g.append(couple[1])\n",
    "            found = True\n",
    "        elif couple[1] in g:\n",
    "            if not couple[0] in g:\n",
    "                g.append(couple[0])\n",
    "            found = True\n",
    "        \n",
    "    if not found :\n",
    "        groups.append([couple[0],couple[1]])\n",
    "print(len(groups))\n",
    "for i in range(0,len(groups)):\n",
    "    for g in groups[i+1:]:\n",
    "        for e in groups[i]:\n",
    "            if e in g:\n",
    "                groups[i].extend(g)\n",
    "                groups[i] = list(dict.fromkeys(groups[i]))\n",
    "                groups.remove(g)\n",
    "                break\n",
    "        \n",
    "(groups)\n",
    "    "
   ]
  },
  {
   "cell_type": "markdown",
   "metadata": {},
   "source": [
    "[[688, 1058, 549, 546, 1027, 554], [1035, 1206], [144, 686], [2249, 2401]] "
   ]
  },
  {
   "cell_type": "code",
   "execution_count": 42,
   "metadata": {},
   "outputs": [
    {
     "data": {
      "text/plain": [
       "array([2704, 2718, 1603, 1732, 2249, 1356, 1371, 2396, 1633, 2401, 2410,\n",
       "       1516, 1027, 1035,  144, 1051,  546, 1058,  549, 1065,  554,  686,\n",
       "        688, 1206])"
      ]
     },
     "execution_count": 42,
     "metadata": {},
     "output_type": "execute_result"
    }
   ],
   "source": [
    "train_df['sku'].unique()"
   ]
  },
  {
   "cell_type": "code",
   "execution_count": 43,
   "metadata": {},
   "outputs": [],
   "source": [
    "# sku_groups = {\n",
    "# \"A\" :[1603, 2705, 1608, 1618, 1371], #MAPE 3.8\n",
    "# \"B\" :[2249, 2401, 2365, 2410], #MAPE 5.8\n",
    "# \"C\" :[1554, 1600], #MAPE 5.9\n",
    "# \"D\" :[1365, 1732, 1472, 2682], #MAPE 5.5\n",
    "# \"E\" :[688,1058,549,546,1027,1035,554,1206,1065,1365,1732,1472,1600,1554,1516,1633,1371\n",
    "#       ,1356,2678,2683,2681,1603,2705,1618,2365,2696,2718,2711,2712,2698,2396,2682,2707,2704,2360],#MAPE 8.8\n",
    "# \"F\" :[144, 686, 1051] #MAPE 10\n",
    "# }\n",
    "sku_groups ={\n",
    "    \"A\" : [688, 1058, 549, 546, 1027, 554, 1035, 1206, 1065],\n",
    "    \"B\" : [144, 686, 1051],\n",
    "    \"C\" : [2249, 2401, 2410],\n",
    "    \"D\" : [1356, 1371, 2704],\n",
    "    \"E\" : [1516, 1633]\n",
    "}"
   ]
  },
  {
   "cell_type": "code",
   "execution_count": 44,
   "metadata": {},
   "outputs": [
    {
     "name": "stdout",
     "output_type": "stream",
     "text": [
      "2704 : D\n",
      "NOT FOUND 2718\n",
      "NOT FOUND 1603\n",
      "NOT FOUND 1732\n",
      "2249 : C\n",
      "1356 : D\n",
      "1371 : D\n",
      "NOT FOUND 2396\n",
      "1633 : E\n",
      "2401 : C\n",
      "2410 : C\n",
      "1516 : E\n",
      "1027 : A\n",
      "1035 : A\n",
      "144 : B\n",
      "1051 : B\n",
      "546 : A\n",
      "1058 : A\n",
      "549 : A\n",
      "1065 : A\n",
      "554 : A\n",
      "686 : B\n",
      "688 : A\n",
      "1206 : A\n",
      "20\n"
     ]
    }
   ],
   "source": [
    "i = 0\n",
    "for sku in train_df['sku'].unique():\n",
    "    j = i\n",
    "    for l,g in sku_groups.items():\n",
    "    \n",
    "        if sku in g:\n",
    "            print(str(sku) + \" : \"+l)\n",
    "            i = i+1\n",
    "            break\n",
    "    if j == i:\n",
    "        print(\"NOT FOUND \"+str(sku))\n",
    "    \n",
    "print(i)\n",
    "            "
   ]
  },
  {
   "cell_type": "code",
   "execution_count": null,
   "metadata": {},
   "outputs": [],
   "source": []
  },
  {
   "cell_type": "code",
   "execution_count": null,
   "metadata": {},
   "outputs": [],
   "source": []
  }
 ],
 "metadata": {
  "kernelspec": {
   "display_name": "Python 3",
   "language": "python",
   "name": "python3"
  },
  "language_info": {
   "codemirror_mode": {
    "name": "ipython",
    "version": 3
   },
   "file_extension": ".py",
   "mimetype": "text/x-python",
   "name": "python",
   "nbconvert_exporter": "python",
   "pygments_lexer": "ipython3",
   "version": "3.7.6"
  }
 },
 "nbformat": 4,
 "nbformat_minor": 4
}
